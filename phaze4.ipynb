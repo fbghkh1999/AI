{
  "nbformat": 4,
  "nbformat_minor": 0,
  "metadata": {
    "colab": {
      "name": "phaze4.ipynb",
      "provenance": [],
      "collapsed_sections": [],
      "mount_file_id": "1vl5gdqXCOcEjOefPmu5tET1S3X765DGQ",
      "authorship_tag": "ABX9TyOUzaRuQqKPtVRLkDU10AjV",
      "include_colab_link": true
    },
    "kernelspec": {
      "name": "python3",
      "display_name": "Python 3"
    },
    "language_info": {
      "name": "python"
    }
  },
  "cells": [
    {
      "cell_type": "markdown",
      "metadata": {
        "id": "view-in-github",
        "colab_type": "text"
      },
      "source": [
        "<a href=\"https://colab.research.google.com/github/fbghkh1999/AI/blob/main/phaze4.ipynb\" target=\"_parent\"><img src=\"https://colab.research.google.com/assets/colab-badge.svg\" alt=\"Open In Colab\"/></a>"
      ]
    },
    {
      "cell_type": "code",
      "metadata": {
        "id": "xkJ5IyIGHh_p"
      },
      "source": [
        "#تعیین قیمت برای یک محصول "
      ],
      "execution_count": 1,
      "outputs": []
    },
    {
      "cell_type": "code",
      "metadata": {
        "id": "nq55k3XmJ7ic"
      },
      "source": [
        "import pandas as pd\n",
        "import numpy as np\n",
        "import matplotlib.pyplot as plt\n",
        "from matplotlib import pyplot\n",
        "import seaborn as sns\n",
        "% matplotlib inline"
      ],
      "execution_count": 36,
      "outputs": []
    },
    {
      "cell_type": "code",
      "metadata": {
        "id": "a_HDJq30H6_M"
      },
      "source": [
        "divar=pd.read_csv('/content/drive/MyDrive/divar_dataset/divar_posts_dataset.csv')"
      ],
      "execution_count": 38,
      "outputs": []
    },
    {
      "cell_type": "code",
      "metadata": {
        "colab": {
          "base_uri": "https://localhost:8080/",
          "height": 564
        },
        "id": "wFfsBv0iKKfF",
        "outputId": "65dad58f-fe85-497f-ecf2-e5981e378146"
      },
      "source": [
        " divar.head()"
      ],
      "execution_count": 20,
      "outputs": [
        {
          "output_type": "execute_result",
          "data": {
            "text/html": [
              "<div>\n",
              "<style scoped>\n",
              "    .dataframe tbody tr th:only-of-type {\n",
              "        vertical-align: middle;\n",
              "    }\n",
              "\n",
              "    .dataframe tbody tr th {\n",
              "        vertical-align: top;\n",
              "    }\n",
              "\n",
              "    .dataframe thead th {\n",
              "        text-align: right;\n",
              "    }\n",
              "</style>\n",
              "<table border=\"1\" class=\"dataframe\">\n",
              "  <thead>\n",
              "    <tr style=\"text-align: right;\">\n",
              "      <th></th>\n",
              "      <th>Unnamed: 0</th>\n",
              "      <th>archive_by_user</th>\n",
              "      <th>brand</th>\n",
              "      <th>cat1</th>\n",
              "      <th>cat2</th>\n",
              "      <th>cat3</th>\n",
              "      <th>city</th>\n",
              "      <th>created_at</th>\n",
              "      <th>desc</th>\n",
              "      <th>id</th>\n",
              "      <th>image_count</th>\n",
              "      <th>mileage</th>\n",
              "      <th>platform</th>\n",
              "      <th>price</th>\n",
              "      <th>title</th>\n",
              "      <th>type</th>\n",
              "      <th>year</th>\n",
              "    </tr>\n",
              "  </thead>\n",
              "  <tbody>\n",
              "    <tr>\n",
              "      <th>0</th>\n",
              "      <td>0</td>\n",
              "      <td>False</td>\n",
              "      <td>NaN</td>\n",
              "      <td>for-the-home</td>\n",
              "      <td>furniture-and-home-decore</td>\n",
              "      <td>sofa-armchair</td>\n",
              "      <td>Tehran</td>\n",
              "      <td>Tuesday 07PM</td>\n",
              "      <td>کلاسیک و شیک و استثنایی\\nچرم مالزی\\nچوب راش\\nف...</td>\n",
              "      <td>54761638662241</td>\n",
              "      <td>5</td>\n",
              "      <td>NaN</td>\n",
              "      <td>mobile</td>\n",
              "      <td>3850000</td>\n",
              "      <td>ست مبلمان و نهارخوری ٩ نفره</td>\n",
              "      <td>NaN</td>\n",
              "      <td>NaN</td>\n",
              "    </tr>\n",
              "    <tr>\n",
              "      <th>1</th>\n",
              "      <td>1</td>\n",
              "      <td>False</td>\n",
              "      <td>NaN</td>\n",
              "      <td>for-the-home</td>\n",
              "      <td>furniture-and-home-decore</td>\n",
              "      <td>antiques-and-art</td>\n",
              "      <td>Mashhad</td>\n",
              "      <td>Tuesday 07PM</td>\n",
              "      <td>سلام,یک عدد گلدون نخل سه طبقه ی سالم دارم با پ...</td>\n",
              "      <td>42727631379133</td>\n",
              "      <td>1</td>\n",
              "      <td>NaN</td>\n",
              "      <td>mobile</td>\n",
              "      <td>30000</td>\n",
              "      <td>گلدون مصنوعی نخل</td>\n",
              "      <td>NaN</td>\n",
              "      <td>NaN</td>\n",
              "    </tr>\n",
              "    <tr>\n",
              "      <th>2</th>\n",
              "      <td>2</td>\n",
              "      <td>False</td>\n",
              "      <td>NaN</td>\n",
              "      <td>vehicles</td>\n",
              "      <td>cars</td>\n",
              "      <td>heavy</td>\n",
              "      <td>Mashhad</td>\n",
              "      <td>Tuesday 07PM</td>\n",
              "      <td>سریال 43j$NUMبدون شکستگی سه حلقه لاستیک نو یک ...</td>\n",
              "      <td>63194439667302</td>\n",
              "      <td>4</td>\n",
              "      <td>NaN</td>\n",
              "      <td>mobile</td>\n",
              "      <td>-1</td>\n",
              "      <td>لودر کاتر پیلار 950</td>\n",
              "      <td>NaN</td>\n",
              "      <td>NaN</td>\n",
              "    </tr>\n",
              "    <tr>\n",
              "      <th>3</th>\n",
              "      <td>3</td>\n",
              "      <td>False</td>\n",
              "      <td>NaN</td>\n",
              "      <td>for-the-home</td>\n",
              "      <td>furniture-and-home-decore</td>\n",
              "      <td>sofa-armchair</td>\n",
              "      <td>Tehran</td>\n",
              "      <td>Tuesday 07PM</td>\n",
              "      <td>مبل راحتی هفت نفره شامل سه نفره یک عدد دونفره ...</td>\n",
              "      <td>19133025491169</td>\n",
              "      <td>4</td>\n",
              "      <td>NaN</td>\n",
              "      <td>mobile</td>\n",
              "      <td>600000</td>\n",
              "      <td>مبل راحتی هفت نفره بامیز جلو مبلی</td>\n",
              "      <td>NaN</td>\n",
              "      <td>NaN</td>\n",
              "    </tr>\n",
              "    <tr>\n",
              "      <th>4</th>\n",
              "      <td>4</td>\n",
              "      <td>False</td>\n",
              "      <td>NaN</td>\n",
              "      <td>personal</td>\n",
              "      <td>baby-and-toys</td>\n",
              "      <td>personal-toys</td>\n",
              "      <td>Karaj</td>\n",
              "      <td>Tuesday 08PM</td>\n",
              "      <td>شارژی کنترلی سویچ حمل تا 35 کیلو صندلی برای دو...</td>\n",
              "      <td>58998998335444</td>\n",
              "      <td>2</td>\n",
              "      <td>NaN</td>\n",
              "      <td>mobile</td>\n",
              "      <td>450000</td>\n",
              "      <td>ماشین شارژی</td>\n",
              "      <td>NaN</td>\n",
              "      <td>NaN</td>\n",
              "    </tr>\n",
              "  </tbody>\n",
              "</table>\n",
              "</div>"
            ],
            "text/plain": [
              "   Unnamed: 0  archive_by_user  ... type year\n",
              "0           0            False  ...  NaN  NaN\n",
              "1           1            False  ...  NaN  NaN\n",
              "2           2            False  ...  NaN  NaN\n",
              "3           3            False  ...  NaN  NaN\n",
              "4           4            False  ...  NaN  NaN\n",
              "\n",
              "[5 rows x 17 columns]"
            ]
          },
          "metadata": {
            "tags": []
          },
          "execution_count": 20
        }
      ]
    },
    {
      "cell_type": "code",
      "metadata": {
        "colab": {
          "base_uri": "https://localhost:8080/",
          "height": 0
        },
        "id": "PfxvBIF22utY",
        "outputId": "ece4b43f-b89c-48bd-cf58-95159cf75bcf"
      },
      "source": [
        "divar.info()"
      ],
      "execution_count": 9,
      "outputs": [
        {
          "output_type": "stream",
          "text": [
            "<class 'pandas.core.frame.DataFrame'>\n",
            "RangeIndex: 947635 entries, 0 to 947634\n",
            "Data columns (total 17 columns):\n",
            " #   Column           Non-Null Count   Dtype  \n",
            "---  ------           --------------   -----  \n",
            " 0   Unnamed: 0       947635 non-null  int64  \n",
            " 1   archive_by_user  947635 non-null  bool   \n",
            " 2   brand            190892 non-null  object \n",
            " 3   cat1             947635 non-null  object \n",
            " 4   cat2             945877 non-null  object \n",
            " 5   cat3             775301 non-null  object \n",
            " 6   city             947635 non-null  object \n",
            " 7   created_at       947635 non-null  object \n",
            " 8   desc             947635 non-null  object \n",
            " 9   id               947635 non-null  int64  \n",
            " 10  image_count      947635 non-null  int64  \n",
            " 11  mileage          120451 non-null  float64\n",
            " 12  platform         947635 non-null  object \n",
            " 13  price            947635 non-null  int64  \n",
            " 14  title            947635 non-null  object \n",
            " 15  type             98529 non-null   object \n",
            " 16  year             120451 non-null  object \n",
            "dtypes: bool(1), float64(1), int64(4), object(11)\n",
            "memory usage: 116.6+ MB\n"
          ],
          "name": "stdout"
        }
      ]
    },
    {
      "cell_type": "code",
      "metadata": {
        "id": "VcGT1SgoObSO"
      },
      "source": [
        "from sklearn.model_selection import train_test_split\n",
        "X=pd.get_dummies(divar[['cat1','cat2','cat3','brand']])\n",
        "Y=divar['price']\n",
        "x_train,x_test,y_train,y_test=train_test_split(X,Y,random_state=44,train_size=0.8,test_size=0.2)"
      ],
      "execution_count": 42,
      "outputs": []
    },
    {
      "cell_type": "code",
      "metadata": {
        "id": "r1dU3UQ9ixQf"
      },
      "source": [
        "divar=divar[divar['price']!=-1]\n",
        "\n"
      ],
      "execution_count": 39,
      "outputs": []
    },
    {
      "cell_type": "code",
      "metadata": {
        "id": "5hvxsIuH5K2D"
      },
      "source": [
        "divar=divar[divar['cat2']!=np.nan]\n"
      ],
      "execution_count": 40,
      "outputs": []
    },
    {
      "cell_type": "code",
      "metadata": {
        "id": "9u4p2Idr6Gn2"
      },
      "source": [
        "divar=divar[divar['brand']!=np.nan]\n",
        "divar=divar[divar['cat3']!=np.nan]"
      ],
      "execution_count": 41,
      "outputs": []
    },
    {
      "cell_type": "code",
      "metadata": {
        "id": "fo59zfuzWGOp"
      },
      "source": [
        "from sklearn.preprocessing import MinMaxScaler\n",
        "sc=MinMaxScaler(feature_range=(0,1))\n",
        "y_train=sc.fit_transform(np.array(y_train).reshape(-1,1))"
      ],
      "execution_count": 43,
      "outputs": []
    },
    {
      "cell_type": "code",
      "metadata": {
        "colab": {
          "base_uri": "https://localhost:8080/",
          "height": 0
        },
        "id": "Iq0MpSzUZAXH",
        "outputId": "a7ad2890-074b-4b0f-beee-6b77eca087cb"
      },
      "source": [
        "np.array(x_train)"
      ],
      "execution_count": 25,
      "outputs": [
        {
          "output_type": "execute_result",
          "data": {
            "text/plain": [
              "array([[0, 0, 0, ..., 0, 0, 0],\n",
              "       [0, 0, 1, ..., 0, 0, 0],\n",
              "       [0, 0, 0, ..., 0, 0, 0],\n",
              "       ...,\n",
              "       [0, 0, 0, ..., 0, 0, 0],\n",
              "       [0, 1, 0, ..., 0, 0, 0],\n",
              "       [0, 0, 0, ..., 0, 0, 0]], dtype=uint8)"
            ]
          },
          "metadata": {
            "tags": []
          },
          "execution_count": 25
        }
      ]
    },
    {
      "cell_type": "code",
      "metadata": {
        "colab": {
          "base_uri": "https://localhost:8080/",
          "height": 0
        },
        "id": "Iu8plntiUdlX",
        "outputId": "e878a42a-f74f-4024-89ac-97dc1fb4f2ed"
      },
      "source": [
        "from sklearn.linear_model import LinearRegression\n",
        "lr=LinearRegression()\n",
        "lr.fit(x_train,y_train)"
      ],
      "execution_count": 44,
      "outputs": [
        {
          "output_type": "execute_result",
          "data": {
            "text/plain": [
              "LinearRegression(copy_X=True, fit_intercept=True, n_jobs=None, normalize=False)"
            ]
          },
          "metadata": {
            "tags": []
          },
          "execution_count": 44
        }
      ]
    },
    {
      "cell_type": "code",
      "metadata": {
        "id": "mKQbptRwUx9W"
      },
      "source": [
        "y_pred=lr.predict(x_test)"
      ],
      "execution_count": 45,
      "outputs": []
    },
    {
      "cell_type": "code",
      "metadata": {
        "id": "speLamaQa4KK"
      },
      "source": [
        "y_pred_new=sc.inverse_transform(y_pred)"
      ],
      "execution_count": 12,
      "outputs": []
    },
    {
      "cell_type": "code",
      "metadata": {
        "colab": {
          "base_uri": "https://localhost:8080/",
          "height": 0
        },
        "id": "Pvfcc0dfU87J",
        "outputId": "b04dcfb6-05f9-49f2-dda1-a575fc71209d"
      },
      "source": [
        "from sklearn.metrics import  r2_score\n",
        "from sklearn.metrics import  mean_squared_error\n",
        "import math\n",
        "math.sqrt(mean_squared_error(y_test,y_pred_new))"
      ],
      "execution_count": 13,
      "outputs": [
        {
          "output_type": "execute_result",
          "data": {
            "text/plain": [
              "8466882.307445204"
            ]
          },
          "metadata": {
            "tags": []
          },
          "execution_count": 13
        }
      ]
    },
    {
      "cell_type": "code",
      "metadata": {
        "colab": {
          "base_uri": "https://localhost:8080/",
          "height": 0
        },
        "id": "6sRH3W7GaEUy",
        "outputId": "0734c3a5-c6fe-42cb-a055-42efbb4cd151"
      },
      "source": [
        "r2_score(y_test,y_pred_new)"
      ],
      "execution_count": 14,
      "outputs": [
        {
          "output_type": "execute_result",
          "data": {
            "text/plain": [
              "0.6836827126084342"
            ]
          },
          "metadata": {
            "tags": []
          },
          "execution_count": 14
        }
      ]
    },
    {
      "cell_type": "code",
      "metadata": {
        "colab": {
          "base_uri": "https://localhost:8080/",
          "height": 0
        },
        "id": "YzX3DMJeiNdW",
        "outputId": "356a4a9d-8df7-4e01-93fe-43e300200908"
      },
      "source": [
        "y_pred_new"
      ],
      "execution_count": 130,
      "outputs": [
        {
          "output_type": "execute_result",
          "data": {
            "text/plain": [
              "array([[ 468445.82304764],\n",
              "       [1538086.93365478],\n",
              "       [3056336.44157791],\n",
              "       ...,\n",
              "       [3129578.62889481],\n",
              "       [1002503.43889999],\n",
              "       [ 646973.65463257]])"
            ]
          },
          "metadata": {
            "tags": []
          },
          "execution_count": 130
        }
      ]
    },
    {
      "cell_type": "code",
      "metadata": {
        "colab": {
          "base_uri": "https://localhost:8080/",
          "height": 277
        },
        "id": "r6VC9yktcxMf",
        "outputId": "729a0b02-bb66-4d17-b2d4-18cf05008900"
      },
      "source": [
        "x_test=x_test.idxmax(axis=1)\n",
        "x_train=x_train.idxmax(axis=1)\n",
        "plt.scatter(x_test,y_pred_new)\n",
        "plt.scatter(x_train,y_train)\n",
        "plt.show()"
      ],
      "execution_count": 132,
      "outputs": [
        {
          "output_type": "display_data",
          "data": {
            "image/png": "[encoded data removed]",
            "text/plain": [
              "<Figure size 432x288 with 1 Axes>"
            ]
          },
          "metadata": {
            "tags": [],
            "needs_background": "light"
          }
        }
      ]
    },
    {
      "cell_type": "code",
      "metadata": {
        "colab": {
          "base_uri": "https://localhost:8080/",
          "height": 0
        },
        "id": "VnIrHnbl7HDl",
        "outputId": "f7193993-d45a-4f78-877c-0c554825d92e"
      },
      "source": [
        "from sklearn.ensemble import  RandomForestRegressor\n",
        "rg=RandomForestRegressor(random_state=44,n_estimators=10,max_depth=10)\n",
        "rg.fit(x_train,y_train)"
      ],
      "execution_count": 46,
      "outputs": [
        {
          "output_type": "stream",
          "text": [
            "/usr/local/lib/python3.7/dist-packages/ipykernel_launcher.py:3: DataConversionWarning: A column-vector y was passed when a 1d array was expected. Please change the shape of y to (n_samples,), for example using ravel().\n",
            "  This is separate from the ipykernel package so we can avoid doing imports until\n"
          ],
          "name": "stderr"
        },
        {
          "output_type": "execute_result",
          "data": {
            "text/plain": [
              "RandomForestRegressor(bootstrap=True, ccp_alpha=0.0, criterion='mse',\n",
              "                      max_depth=10, max_features='auto', max_leaf_nodes=None,\n",
              "                      max_samples=None, min_impurity_decrease=0.0,\n",
              "                      min_impurity_split=None, min_samples_leaf=1,\n",
              "                      min_samples_split=2, min_weight_fraction_leaf=0.0,\n",
              "                      n_estimators=10, n_jobs=None, oob_score=False,\n",
              "                      random_state=44, verbose=0, warm_start=False)"
            ]
          },
          "metadata": {
            "tags": []
          },
          "execution_count": 46
        }
      ]
    },
    {
      "cell_type": "code",
      "metadata": {
        "id": "kUAeUgaU-1z2"
      },
      "source": [
        "predict=rg.predict(x_test)"
      ],
      "execution_count": 47,
      "outputs": []
    },
    {
      "cell_type": "code",
      "metadata": {
        "id": "MKuHhixWBqd-"
      },
      "source": [
        "predictts=sc.inverse_transform(predict.reshape(-1,1))"
      ],
      "execution_count": 48,
      "outputs": []
    },
    {
      "cell_type": "code",
      "metadata": {
        "colab": {
          "base_uri": "https://localhost:8080/",
          "height": 0
        },
        "id": "VXQWHq8IE5hJ",
        "outputId": "843a30df-e37c-40f6-b899-b89f220ccb04"
      },
      "source": [
        "predictts"
      ],
      "execution_count": 49,
      "outputs": [
        {
          "output_type": "execute_result",
          "data": {
            "text/plain": [
              "array([[  286982.88671095],\n",
              "       [ 1177920.74319604],\n",
              "       [  844995.49729006],\n",
              "       ...,\n",
              "       [20136169.17246804],\n",
              "       [  286982.88671095],\n",
              "       [   98458.08027312]])"
            ]
          },
          "metadata": {
            "tags": []
          },
          "execution_count": 49
        }
      ]
    },
    {
      "cell_type": "code",
      "metadata": {
        "colab": {
          "base_uri": "https://localhost:8080/",
          "height": 0
        },
        "id": "pRo4b90NFDVk",
        "outputId": "ee6b2fb2-991d-4480-ab8e-28eb281ccaf5"
      },
      "source": [
        "r2_score(y_test,predictts)"
      ],
      "execution_count": 50,
      "outputs": [
        {
          "output_type": "execute_result",
          "data": {
            "text/plain": [
              "0.6640906382975076"
            ]
          },
          "metadata": {
            "tags": []
          },
          "execution_count": 50
        }
      ]
    }
  ]
}